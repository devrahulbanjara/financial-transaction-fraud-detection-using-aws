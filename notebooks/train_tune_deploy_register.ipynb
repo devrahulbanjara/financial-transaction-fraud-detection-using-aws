{
 "cells": [
  {
   "cell_type": "markdown",
   "id": "e85b52d6",
   "metadata": {},
   "source": [
    "# Financial Fraud Detection with XGBoost on AWS SageMaker"
   ]
  },
  {
   "cell_type": "markdown",
   "id": "34bda206",
   "metadata": {},
   "source": [
    "## Introduction"
   ]
  },
  {
   "cell_type": "markdown",
   "id": "5a6b0d52",
   "metadata": {},
   "source": [
    "This notebook demonstrates a complete machine learning workflow for detecting fraudulent financial transactions. We will use a balanced dataset of financial transactions and leverage the power of Amazon SageMaker to train, tune, and deploy an XGBoost model. The primary goal is to build a robust model that can accurately identify fraudulent transactions, which is a critical task for any financial institution.\n",
    "\n",
    "The notebook covers the following key stages:\n",
    "*   **Setup and Data Preparation:** Installing necessary libraries, loading the data from an S3 bucket, and splitting it into training, validation, and testing sets.\n",
    "*   **Initial Model Training:** Training an initial XGBoost model with a baseline set of hyperparameters.\n",
    "*   **Model Deployment and Evaluation:** Deploying the initial model to a SageMaker endpoint and evaluating its performance using various metrics.\n",
    "*   **Hyperparameter Tuning:** Using SageMaker's automatic hyperparameter tuning to find the optimal set of hyperparameters for our XGBoost model.\n",
    "*   **Tuned Model Deployment and Evaluation:** Deploying the best model from the tuning job and evaluating its improved performance.\n",
    "*   **Model Registration:** Registering the final, tuned model in the SageMaker Model Registry for versioning and production deployment.\n",
    "*   **Cleanup:** Deleting the SageMaker endpoints to avoid incurring unnecessary costs."
   ]
  },
  {
   "cell_type": "markdown",
   "id": "29bd681e",
   "metadata": {},
   "source": [
    "---"
   ]
  },
  {
   "cell_type": "markdown",
   "id": "86b902d7",
   "metadata": {},
   "source": [
    "## Table of Contents"
   ]
  },
  {
   "cell_type": "markdown",
   "id": "472d90fc",
   "metadata": {},
   "source": [
    "1.  [Setup and Dependencies](#setup)\n",
    "2.  [Data Loading and Preparation](#data-loading)\n",
    "    1.  [Loading the Dataset](#load-data)\n",
    "    2.  [Data Splitting](#data-split)\n",
    "    3.  [Uploading Data to S3](#upload-s3)\n",
    "3.  [Model Training (Before Hyperparameter Tuning)](#initial-training)\n",
    "    1.  [Retrieve XGBoost Image](#xgboost-image)\n",
    "    2.  [Define Estimator](#define-estimator)\n",
    "    3.  [Set Hyperparameters](#set-hyperparameters)\n",
    "    4.  [Train the Model](#train-initial-model)\n",
    "4.  [Deploy and Evaluate the Initial Model](#deploy-initial)\n",
    "    1.  [Deploy the Model](#deploy-model)\n",
    "    2.  [Evaluate the Model](#evaluate-initial)\n",
    "5.  [Hyperparameter Tuning](#hyperparameter-tuning)\n",
    "    1.  [Define Hyperparameter Ranges](#define-ranges)\n",
    "    2.  [Configure the Tuner](#configure-tuner)\n",
    "    3.  [Start the Tuning Job](#start-tuning)\n",
    "    4.  [Analyze Tuning Results](#analyze-tuning)\n",
    "6.  [Deploy and Evaluate the Tuned Model](#deploy-tuned)\n",
    "    1.  [Deploy the Best Model](#deploy-best)\n",
    "    2.  [Evaluate the Tuned Model](#evaluate-tuned)\n",
    "7.  [Register the Model in SageMaker Model Registry](#register-model)\n",
    "    1.  [Create Model Package Group](#create-group)\n",
    "    2.  [Define Model Metrics](#define-metrics)\n",
    "    3.  [Register the Model](#register)\n",
    "    4.  [Approve the Model](#approve-model)\n",
    "8.  [Cleanup](#cleanup)"
   ]
  },
  {
   "cell_type": "markdown",
   "id": "6e42afa3",
   "metadata": {},
   "source": [
    "---"
   ]
  },
  {
   "cell_type": "markdown",
   "id": "5a927725",
   "metadata": {},
   "source": [
    "## 1. Setup and Dependencies"
   ]
  },
  {
   "cell_type": "markdown",
   "id": "a864598c",
   "metadata": {},
   "source": [
    "### 1.1. Install Required Libraries\n",
    "First, we install the necessary Python libraries that are not pre-installed in the SageMaker environment. `s3fs` is needed for interacting with S3, and `matplotlib` and `seaborn` are for data visualization."
   ]
  },
  {
   "cell_type": "code",
   "execution_count": null,
   "id": "08dd6e9c",
   "metadata": {},
   "outputs": [],
   "source": [
    "!pip install matplotlib seaborn"
   ]
  },
  {
   "cell_type": "code",
   "execution_count": null,
   "id": "4deb77ff-ca66-423c-853b-dfc7045a2571",
   "metadata": {},
   "outputs": [],
   "source": [
    "!pip install s3fs==2025.7.0"
   ]
  },
  {
   "cell_type": "code",
   "execution_count": null,
   "id": "708383ec-3314-4ba6-9869-677f81c3897c",
   "metadata": {},
   "outputs": [],
   "source": [
    "!pip install --upgrade --no-cache-dir numexpr"
   ]
  },
  {
   "cell_type": "code",
   "execution_count": null,
   "id": "99a5a811-264c-44a9-a8a0-dcadac661b0c",
   "metadata": {},
   "outputs": [],
   "source": [
    "import os\n",
    "os._exit(00)"
   ]
  },
  {
   "cell_type": "markdown",
   "id": "bcc9c83a",
   "metadata": {},
   "source": [
    "### 1.2. Import Libraries\n",
    "Next, we import all the required libraries for our project. This includes `pandas` for data manipulation, `sagemaker` and `boto3` for interacting with AWS services, and `sklearn` for machine learning utilities."
   ]
  },
  {
   "cell_type": "code",
   "execution_count": 1,
   "id": "d430e032",
   "metadata": {},
   "outputs": [
    {
     "name": "stdout",
     "output_type": "stream",
     "text": [
      "sagemaker.config INFO - Not applying SDK defaults from location: /etc/xdg/sagemaker/config.yaml\n",
      "sagemaker.config INFO - Not applying SDK defaults from location: /home/ec2-user/.config/sagemaker/config.yaml\n"
     ]
    }
   ],
   "source": [
    "# ─────────────────────────────────────────────\n",
    "# Standard Library Imports\n",
    "# ─────────────────────────────────────────────\n",
    "import io\n",
    "import os\n",
    "from datetime import datetime\n",
    "import time\n",
    "import json\n",
    "from IPython.display import FileLink, FileLinks\n",
    "\n",
    "# ─────────────────────────────────────────────\n",
    "# Third-Party Libraries\n",
    "# ─────────────────────────────────────────────\n",
    "import boto3\n",
    "import matplotlib.pyplot as plt\n",
    "import numpy as np\n",
    "import pandas as pd\n",
    "import seaborn as sns\n",
    "import s3fs\n",
    "from IPython.display import FileLink, FileLinks\n",
    "from sklearn.metrics import (\n",
    "    accuracy_score,\n",
    "    confusion_matrix,\n",
    "    f1_score,\n",
    "    precision_score,\n",
    "    recall_score,\n",
    ")\n",
    "from sklearn.model_selection import train_test_split\n",
    "\n",
    "# ─────────────────────────────────────────────\n",
    "# SageMaker Core Libraries\n",
    "# ─────────────────────────────────────────────\n",
    "import sagemaker\n",
    "from sagemaker import get_execution_role\n",
    "from sagemaker import image_uris\n",
    "from sagemaker.debugger import Rule, ProfilerRule, rule_configs\n",
    "from sagemaker.predictor import Predictor\n",
    "from sagemaker.s3 import S3Uploader\n",
    "from sagemaker.serializers import CSVSerializer\n",
    "from sagemaker.session import TrainingInput\n",
    "from sagemaker.model_metrics import ModelMetrics, MetricsSource\n",
    "\n",
    "# ─────────────────────────────────────────────\n",
    "# SageMaker Tuner (Hyperparameter Optimization)\n",
    "# ─────────────────────────────────────────────\n",
    "from sagemaker.tuner import (\n",
    "    CategoricalParameter,\n",
    "    ContinuousParameter,\n",
    "    HyperparameterTuner,\n",
    "    IntegerParameter,\n",
    ")"
   ]
  },
  {
   "cell_type": "markdown",
   "id": "3f34ee08",
   "metadata": {},
   "source": [
    "---"
   ]
  },
  {
   "cell_type": "markdown",
   "id": "55a68471",
   "metadata": {},
   "source": [
    "## 2. Data Loading and Preparation\n",
    "We load our balanced and preprocessed dataset from the specified S3 URI into a pandas DataFrame. We then display the first few rows to inspect the data.\n"
   ]
  },
  {
   "cell_type": "code",
   "execution_count": 4,
   "id": "d3ad9f2a-c2f6-410c-a26a-1aee1263d89b",
   "metadata": {},
   "outputs": [
    {
     "data": {
      "text/html": [
       "<div>\n",
       "<style scoped>\n",
       "    .dataframe tbody tr th:only-of-type {\n",
       "        vertical-align: middle;\n",
       "    }\n",
       "\n",
       "    .dataframe tbody tr th {\n",
       "        vertical-align: top;\n",
       "    }\n",
       "\n",
       "    .dataframe thead th {\n",
       "        text-align: right;\n",
       "    }\n",
       "</style>\n",
       "<table border=\"1\" class=\"dataframe\">\n",
       "  <thead>\n",
       "    <tr style=\"text-align: right;\">\n",
       "      <th></th>\n",
       "      <th>transaction_month</th>\n",
       "      <th>transaction_day_of_week</th>\n",
       "      <th>transaction_hour</th>\n",
       "      <th>merchant_mapped</th>\n",
       "      <th>category_mapped</th>\n",
       "      <th>amt_normalized column</th>\n",
       "      <th>gender_mapped</th>\n",
       "      <th>zip</th>\n",
       "      <th>lat</th>\n",
       "      <th>long</th>\n",
       "      <th>city_pop</th>\n",
       "      <th>unix_time</th>\n",
       "      <th>merch_lat</th>\n",
       "      <th>merch_long</th>\n",
       "      <th>is_fraud</th>\n",
       "    </tr>\n",
       "  </thead>\n",
       "  <tbody>\n",
       "    <tr>\n",
       "      <th>0</th>\n",
       "      <td>7</td>\n",
       "      <td>5</td>\n",
       "      <td>4</td>\n",
       "      <td>23.0</td>\n",
       "      <td>14.0</td>\n",
       "      <td>0.026282</td>\n",
       "      <td>1</td>\n",
       "      <td>11978</td>\n",
       "      <td>40.8295</td>\n",
       "      <td>-72.6473</td>\n",
       "      <td>3255</td>\n",
       "      <td>1375245092</td>\n",
       "      <td>40.577633</td>\n",
       "      <td>-72.454276</td>\n",
       "      <td>0</td>\n",
       "    </tr>\n",
       "    <tr>\n",
       "      <th>1</th>\n",
       "      <td>7</td>\n",
       "      <td>6</td>\n",
       "      <td>0</td>\n",
       "      <td>23.0</td>\n",
       "      <td>14.0</td>\n",
       "      <td>0.004987</td>\n",
       "      <td>1</td>\n",
       "      <td>53910</td>\n",
       "      <td>43.8967</td>\n",
       "      <td>-89.8219</td>\n",
       "      <td>3508</td>\n",
       "      <td>1374710635</td>\n",
       "      <td>43.440998</td>\n",
       "      <td>-89.391536</td>\n",
       "      <td>1</td>\n",
       "    </tr>\n",
       "    <tr>\n",
       "      <th>2</th>\n",
       "      <td>8</td>\n",
       "      <td>7</td>\n",
       "      <td>0</td>\n",
       "      <td>23.0</td>\n",
       "      <td>13.0</td>\n",
       "      <td>0.004887</td>\n",
       "      <td>1</td>\n",
       "      <td>31605</td>\n",
       "      <td>30.9460</td>\n",
       "      <td>-83.2474</td>\n",
       "      <td>94325</td>\n",
       "      <td>1377823664</td>\n",
       "      <td>30.473085</td>\n",
       "      <td>-82.955299</td>\n",
       "      <td>0</td>\n",
       "    </tr>\n",
       "    <tr>\n",
       "      <th>3</th>\n",
       "      <td>8</td>\n",
       "      <td>7</td>\n",
       "      <td>21</td>\n",
       "      <td>23.0</td>\n",
       "      <td>1.0</td>\n",
       "      <td>0.022345</td>\n",
       "      <td>1</td>\n",
       "      <td>98027</td>\n",
       "      <td>47.4974</td>\n",
       "      <td>-122.0107</td>\n",
       "      <td>50489</td>\n",
       "      <td>1377293505</td>\n",
       "      <td>47.769791</td>\n",
       "      <td>-122.795592</td>\n",
       "      <td>0</td>\n",
       "    </tr>\n",
       "    <tr>\n",
       "      <th>4</th>\n",
       "      <td>7</td>\n",
       "      <td>5</td>\n",
       "      <td>4</td>\n",
       "      <td>23.0</td>\n",
       "      <td>8.0</td>\n",
       "      <td>0.009894</td>\n",
       "      <td>1</td>\n",
       "      <td>16048</td>\n",
       "      <td>41.0472</td>\n",
       "      <td>-79.8089</td>\n",
       "      <td>139</td>\n",
       "      <td>1374639105</td>\n",
       "      <td>41.291433</td>\n",
       "      <td>-79.701780</td>\n",
       "      <td>0</td>\n",
       "    </tr>\n",
       "  </tbody>\n",
       "</table>\n",
       "</div>"
      ],
      "text/plain": [
       "   transaction_month  transaction_day_of_week  transaction_hour  \\\n",
       "0                  7                        5                 4   \n",
       "1                  7                        6                 0   \n",
       "2                  8                        7                 0   \n",
       "3                  8                        7                21   \n",
       "4                  7                        5                 4   \n",
       "\n",
       "   merchant_mapped  category_mapped  amt_normalized column  gender_mapped  \\\n",
       "0             23.0             14.0               0.026282              1   \n",
       "1             23.0             14.0               0.004987              1   \n",
       "2             23.0             13.0               0.004887              1   \n",
       "3             23.0              1.0               0.022345              1   \n",
       "4             23.0              8.0               0.009894              1   \n",
       "\n",
       "     zip      lat      long  city_pop   unix_time  merch_lat  merch_long  \\\n",
       "0  11978  40.8295  -72.6473      3255  1375245092  40.577633  -72.454276   \n",
       "1  53910  43.8967  -89.8219      3508  1374710635  43.440998  -89.391536   \n",
       "2  31605  30.9460  -83.2474     94325  1377823664  30.473085  -82.955299   \n",
       "3  98027  47.4974 -122.0107     50489  1377293505  47.769791 -122.795592   \n",
       "4  16048  41.0472  -79.8089       139  1374639105  41.291433  -79.701780   \n",
       "\n",
       "   is_fraud  \n",
       "0         0  \n",
       "1         1  \n",
       "2         0  \n",
       "3         0  \n",
       "4         0  "
      ]
     },
     "execution_count": 4,
     "metadata": {},
     "output_type": "execute_result"
    }
   ],
   "source": [
    "s3_uri = 's3://transformed-financial-transaction-fraud-detection-using-aws/balanced preprocessed financial-transaction-fraud-detection-using-aws_05Aug2025_1754391923024/balanced preprocessed financial-transaction-fraud-detection-using-aws_05Aug2025_1754391923024_part00000.csv'\n",
    "\n",
    "df = pd.read_csv(s3_uri)\n",
    "df.head()"
   ]
  },
  {
   "cell_type": "markdown",
   "id": "cb0f28a6",
   "metadata": {},
   "source": [
    "### 2.2. Inspecting the Target Variable\n",
    "We check the distribution of our target variable, `is_fraud`, to confirm that the dataset is balanced."
   ]
  },
  {
   "cell_type": "code",
   "execution_count": 5,
   "id": "35a8936a-d8d1-440c-b37e-cae98fde82db",
   "metadata": {},
   "outputs": [
    {
     "data": {
      "text/plain": [
       "is_fraud\n",
       "0    2145\n",
       "1    2145\n",
       "Name: count, dtype: int64"
      ]
     },
     "execution_count": 5,
     "metadata": {},
     "output_type": "execute_result"
    }
   ],
   "source": [
    "df[\"is_fraud\"].value_counts()"
   ]
  },
  {
   "cell_type": "markdown",
   "id": "3e6596f5",
   "metadata": {},
   "source": [
    "### 2.3. Reordering Columns\n",
    "For training with XGBoost in SageMaker, the target variable must be the first column in the dataset. We reorder the columns to meet this requirement.\n"
   ]
  },
  {
   "cell_type": "code",
   "execution_count": 6,
   "id": "d07e564d-c906-48ed-a8b6-c0705c920c39",
   "metadata": {},
   "outputs": [
    {
     "data": {
      "text/html": [
       "<div>\n",
       "<style scoped>\n",
       "    .dataframe tbody tr th:only-of-type {\n",
       "        vertical-align: middle;\n",
       "    }\n",
       "\n",
       "    .dataframe tbody tr th {\n",
       "        vertical-align: top;\n",
       "    }\n",
       "\n",
       "    .dataframe thead th {\n",
       "        text-align: right;\n",
       "    }\n",
       "</style>\n",
       "<table border=\"1\" class=\"dataframe\">\n",
       "  <thead>\n",
       "    <tr style=\"text-align: right;\">\n",
       "      <th></th>\n",
       "      <th>is_fraud</th>\n",
       "      <th>transaction_month</th>\n",
       "      <th>transaction_day_of_week</th>\n",
       "      <th>transaction_hour</th>\n",
       "      <th>merchant_mapped</th>\n",
       "      <th>category_mapped</th>\n",
       "      <th>amt_normalized column</th>\n",
       "      <th>gender_mapped</th>\n",
       "      <th>zip</th>\n",
       "      <th>lat</th>\n",
       "      <th>long</th>\n",
       "      <th>city_pop</th>\n",
       "      <th>unix_time</th>\n",
       "      <th>merch_lat</th>\n",
       "      <th>merch_long</th>\n",
       "    </tr>\n",
       "  </thead>\n",
       "  <tbody>\n",
       "    <tr>\n",
       "      <th>0</th>\n",
       "      <td>0</td>\n",
       "      <td>7</td>\n",
       "      <td>5</td>\n",
       "      <td>4</td>\n",
       "      <td>23.0</td>\n",
       "      <td>14.0</td>\n",
       "      <td>0.026282</td>\n",
       "      <td>1</td>\n",
       "      <td>11978</td>\n",
       "      <td>40.8295</td>\n",
       "      <td>-72.6473</td>\n",
       "      <td>3255</td>\n",
       "      <td>1375245092</td>\n",
       "      <td>40.577633</td>\n",
       "      <td>-72.454276</td>\n",
       "    </tr>\n",
       "    <tr>\n",
       "      <th>1</th>\n",
       "      <td>1</td>\n",
       "      <td>7</td>\n",
       "      <td>6</td>\n",
       "      <td>0</td>\n",
       "      <td>23.0</td>\n",
       "      <td>14.0</td>\n",
       "      <td>0.004987</td>\n",
       "      <td>1</td>\n",
       "      <td>53910</td>\n",
       "      <td>43.8967</td>\n",
       "      <td>-89.8219</td>\n",
       "      <td>3508</td>\n",
       "      <td>1374710635</td>\n",
       "      <td>43.440998</td>\n",
       "      <td>-89.391536</td>\n",
       "    </tr>\n",
       "    <tr>\n",
       "      <th>2</th>\n",
       "      <td>0</td>\n",
       "      <td>8</td>\n",
       "      <td>7</td>\n",
       "      <td>0</td>\n",
       "      <td>23.0</td>\n",
       "      <td>13.0</td>\n",
       "      <td>0.004887</td>\n",
       "      <td>1</td>\n",
       "      <td>31605</td>\n",
       "      <td>30.9460</td>\n",
       "      <td>-83.2474</td>\n",
       "      <td>94325</td>\n",
       "      <td>1377823664</td>\n",
       "      <td>30.473085</td>\n",
       "      <td>-82.955299</td>\n",
       "    </tr>\n",
       "    <tr>\n",
       "      <th>3</th>\n",
       "      <td>0</td>\n",
       "      <td>8</td>\n",
       "      <td>7</td>\n",
       "      <td>21</td>\n",
       "      <td>23.0</td>\n",
       "      <td>1.0</td>\n",
       "      <td>0.022345</td>\n",
       "      <td>1</td>\n",
       "      <td>98027</td>\n",
       "      <td>47.4974</td>\n",
       "      <td>-122.0107</td>\n",
       "      <td>50489</td>\n",
       "      <td>1377293505</td>\n",
       "      <td>47.769791</td>\n",
       "      <td>-122.795592</td>\n",
       "    </tr>\n",
       "    <tr>\n",
       "      <th>4</th>\n",
       "      <td>0</td>\n",
       "      <td>7</td>\n",
       "      <td>5</td>\n",
       "      <td>4</td>\n",
       "      <td>23.0</td>\n",
       "      <td>8.0</td>\n",
       "      <td>0.009894</td>\n",
       "      <td>1</td>\n",
       "      <td>16048</td>\n",
       "      <td>41.0472</td>\n",
       "      <td>-79.8089</td>\n",
       "      <td>139</td>\n",
       "      <td>1374639105</td>\n",
       "      <td>41.291433</td>\n",
       "      <td>-79.701780</td>\n",
       "    </tr>\n",
       "  </tbody>\n",
       "</table>\n",
       "</div>"
      ],
      "text/plain": [
       "   is_fraud  transaction_month  transaction_day_of_week  transaction_hour  \\\n",
       "0         0                  7                        5                 4   \n",
       "1         1                  7                        6                 0   \n",
       "2         0                  8                        7                 0   \n",
       "3         0                  8                        7                21   \n",
       "4         0                  7                        5                 4   \n",
       "\n",
       "   merchant_mapped  category_mapped  amt_normalized column  gender_mapped  \\\n",
       "0             23.0             14.0               0.026282              1   \n",
       "1             23.0             14.0               0.004987              1   \n",
       "2             23.0             13.0               0.004887              1   \n",
       "3             23.0              1.0               0.022345              1   \n",
       "4             23.0              8.0               0.009894              1   \n",
       "\n",
       "     zip      lat      long  city_pop   unix_time  merch_lat  merch_long  \n",
       "0  11978  40.8295  -72.6473      3255  1375245092  40.577633  -72.454276  \n",
       "1  53910  43.8967  -89.8219      3508  1374710635  43.440998  -89.391536  \n",
       "2  31605  30.9460  -83.2474     94325  1377823664  30.473085  -82.955299  \n",
       "3  98027  47.4974 -122.0107     50489  1377293505  47.769791 -122.795592  \n",
       "4  16048  41.0472  -79.8089       139  1374639105  41.291433  -79.701780  "
      ]
     },
     "execution_count": 6,
     "metadata": {},
     "output_type": "execute_result"
    }
   ],
   "source": [
    "df = df[['is_fraud'] + [col for col in df.columns if col != 'is_fraud']]\n",
    "df.head()"
   ]
  },
  {
   "cell_type": "markdown",
   "id": "e8c7b206",
   "metadata": {},
   "source": [
    "### 2.4. Data Splitting\n",
    "We split the dataset into three parts: a training set (80%), a validation set (10%), and a test set (10%). The `stratify` parameter ensures that the proportion of the target variable is the same across all splits."
   ]
  },
  {
   "cell_type": "code",
   "execution_count": 7,
   "id": "d8f616ab-036c-46b1-8364-703598890536",
   "metadata": {},
   "outputs": [],
   "source": [
    "train, test_and_validate = train_test_split(\n",
    "    df,\n",
    "    test_size=0.2,\n",
    "    random_state=42,\n",
    "    stratify=df[\"is_fraud\"]\n",
    ")\n",
    "\n",
    "test, validate = train_test_split(\n",
    "    test_and_validate,\n",
    "    test_size=0.5,\n",
    "    random_state=42,\n",
    "    stratify=test_and_validate[\"is_fraud\"]\n",
    ")"
   ]
  },
  {
   "cell_type": "markdown",
   "id": "099b1bbc",
   "metadata": {},
   "source": [
    "### 2.5. Verifying Split Shapes\n",
    "We print the shapes of the resulting datasets to ensure the split was successful."
   ]
  },
  {
   "cell_type": "code",
   "execution_count": 8,
   "id": "2afb0591-98af-4553-a402-4db922592851",
   "metadata": {},
   "outputs": [
    {
     "name": "stdout",
     "output_type": "stream",
     "text": [
      "Train shape: (3432, 15)\n",
      "Test shape: (429, 15)\n",
      "Validate shape: (429, 15)\n"
     ]
    }
   ],
   "source": [
    "print(\"Train shape:\", train.shape)\n",
    "print(\"Test shape:\", test.shape)\n",
    "print(\"Validate shape:\", validate.shape)"
   ]
  },
  {
   "cell_type": "markdown",
   "id": "f1d9a6f5",
   "metadata": {},
   "source": [
    "### 2.6. Setting up S3 Paths and Uploading Data\n",
    "We define the S3 bucket and prefix for our project and specify the filenames for our train, test, and validation datasets. Then, we upload these files to their respective S3 locations."
   ]
  },
  {
   "cell_type": "code",
   "execution_count": 19,
   "id": "1ba089f0-aff9-465b-b959-ac977d9b26de",
   "metadata": {},
   "outputs": [
    {
     "name": "stdout",
     "output_type": "stream",
     "text": [
      "Region: us-east-1\n",
      "Execution Role: arn:aws:iam::527054996464:role/LabRole\n",
      "S3 Output Location: s3://test-bucket-second-rerun/fraud-detection/model\n"
     ]
    }
   ],
   "source": [
    "region = sagemaker.Session().boto_region_name\n",
    "session = sagemaker.Session()\n",
    "role = sagemaker.get_execution_role()\n",
    "s3_resource = boto3.Session().resource('s3')\n",
    "\n",
    "bucket = 'test-bucket-second-rerun'\n",
    "prefix = 'fraud-detection'\n",
    "\n",
    "train_file = 'fraud_train.csv'\n",
    "test_file = 'fraud_test.csv'\n",
    "validate_file = 'fraud_validate.csv'\n",
    "\n",
    "train_path = f's3://{bucket}/{prefix}/train/{train_file}'\n",
    "test_path = f's3://{bucket}/{prefix}/test/{test_file}'\n",
    "validate_path = f's3://{bucket}/{prefix}/validate/{validate_file}'\n",
    "\n",
    "s3_output_location = \"s3://{}/{}/{}\".format(bucket, prefix, \"model\")\n",
    "\n",
    "print(f\"Region: {region}\")\n",
    "print(f\"Execution Role: {role}\")\n",
    "print(f\"S3 Output Location: {s3_output_location}\")"
   ]
  },
  {
   "cell_type": "markdown",
   "id": "02867d6b",
   "metadata": {},
   "source": [
    "*The following lines are commented out as they are for the initial upload.*"
   ]
  },
  {
   "cell_type": "code",
   "execution_count": 10,
   "id": "d3ceac25-7e28-418f-8c28-cc7433a1bc73",
   "metadata": {},
   "outputs": [
    {
     "name": "stdout",
     "output_type": "stream",
     "text": [
      "All files successfully uploaded to S3!\n"
     ]
    }
   ],
   "source": [
    "# train.to_csv(train_path, index=False, header=False)\n",
    "# test.to_csv(test_path, index=False, header=False)\n",
    "# validate.to_csv(validate_path, index=False, header=False)\n",
    "\n",
    "# print(\"All files successfully uploaded to S3!\")"
   ]
  },
  {
   "cell_type": "markdown",
   "id": "c2c6182e",
   "metadata": {},
   "source": [
    "Verify that the files are in S3"
   ]
  },
  {
   "cell_type": "code",
   "execution_count": 11,
   "id": "d6d1d820-3f9e-44df-8c92-3242cab46669",
   "metadata": {},
   "outputs": [
    {
     "name": "stdout",
     "output_type": "stream",
     "text": [
      "2025-08-07 10:12:08      43512 fraud-detection/test/fraud_test.csv\n",
      "2025-08-07 10:12:08     347746 fraud-detection/train/fraud_train.csv\n",
      "2025-08-07 10:12:08      43443 fraud-detection/validate/fraud_validate.csv\n"
     ]
    }
   ],
   "source": [
    "!aws s3 ls {bucket}/{prefix}/ --recursive"
   ]
  },
  {
   "cell_type": "markdown",
   "id": "a6a5393b",
   "metadata": {},
   "source": [
    "---"
   ]
  },
  {
   "cell_type": "markdown",
   "id": "cdc292dc",
   "metadata": {},
   "source": [
    "## 3. Model Training (Before Hyperparameter Tuning)"
   ]
  },
  {
   "cell_type": "markdown",
   "id": "7aacc970",
   "metadata": {},
   "source": [
    "### 3.1. Retrieve the XGBoost Docker Image\n",
    "We retrieve the URI for the pre-built XGBoost Docker image from SageMaker's image repository."
   ]
  },
  {
   "cell_type": "code",
   "execution_count": 12,
   "id": "d178ad7a-eba6-49df-9053-fbfe9f2fbc6b",
   "metadata": {},
   "outputs": [
    {
     "name": "stdout",
     "output_type": "stream",
     "text": [
      "683313688378.dkr.ecr.us-east-1.amazonaws.com/sagemaker-xgboost:1.2-1\n"
     ]
    }
   ],
   "source": [
    "model_img = sagemaker.image_uris.retrieve(\"xgboost\", region, \"1.2-1\")\n",
    "print(model_img)"
   ]
  },
  {
   "cell_type": "markdown",
   "id": "f375bebc-5da0-4e46-a147-509394ab488c",
   "metadata": {},
   "source": [
    "### 3.2. Define the SageMaker Estimator\n",
    "We create a SageMaker `Estimator` object for our XGBoost model. This defines the training job's configuration, including the instance type, output path, and any debugging or profiling rules."
   ]
  },
  {
   "cell_type": "code",
   "execution_count": 20,
   "id": "c655584b-c796-481a-ab8e-1faf8a9e1f89",
   "metadata": {},
   "outputs": [],
   "source": [
    "base_job_name = \"fraud-detection-second-rerun\"\n",
    "job_name = base_job_name + datetime.today().strftime(\"%Y-%m-%d-%H-%M-%S\")"
   ]
  },
  {
   "cell_type": "code",
   "execution_count": 25,
   "id": "835f263d-16a1-4243-9556-8854ff42f2dc",
   "metadata": {},
   "outputs": [],
   "source": [
    "xgb_model = sagemaker.estimator.Estimator(\n",
    "    image_uri=model_img,\n",
    "    role=role,\n",
    "    base_job_name=base_job_name,\n",
    "    instance_count=1,\n",
    "    instance_type=\"ml.m5.xlarge\",\n",
    "    output_path=s3_output_location,\n",
    "    sagemaker_session=sagemaker.Session(),\n",
    "    rules=[\n",
    "        Rule.sagemaker(rule_configs.create_xgboost_report()),\n",
    "        ProfilerRule.sagemaker(rule_configs.ProfilerReport())\n",
    "    ]\n",
    ")"
   ]
  },
  {
   "cell_type": "markdown",
   "id": "be64dc27",
   "metadata": {},
   "source": [
    "### 3.3. Set Initial Hyperparameters\n",
    "We set a baseline of hyperparameters for the XGBoost model. These values will be used for our initial training run."
   ]
  },
  {
   "cell_type": "code",
   "execution_count": 26,
   "id": "8d722602-bf0a-48aa-b295-32ba590e6f61",
   "metadata": {},
   "outputs": [],
   "source": [
    "xgb_model.set_hyperparameters(\n",
    "    max_depth = 5,\n",
    "    eta = 0.2,\n",
    "    gamma = 4,\n",
    "    min_child_weight = 6,\n",
    "    subsample = 0.7,\n",
    "    objective = \"binary:logistic\",\n",
    "    num_round = 50\n",
    ")"
   ]
  },
  {
   "cell_type": "markdown",
   "id": "24b21679-d84e-4cdc-b972-06fc2f6b9c11",
   "metadata": {},
   "source": [
    "### 3.4. Configure Data Inputs and Train the Model\n",
    "We use the `TrainingInput` class to specify the S3 locations of our training and validation data. Then, we start the training job by calling the `fit()` method."
   ]
  },
  {
   "cell_type": "code",
   "execution_count": 27,
   "id": "a153eb3d",
   "metadata": {},
   "outputs": [],
   "source": [
    "train_ip = TrainingInput(\"s3://{}/{}/{}\".format(bucket, prefix, \"test/fraud_test.csv\"), content_type=\"csv\")\n",
    "valid_ip = TrainingInput(\"s3://{}/{}/{}\".format(bucket, prefix, \"validate/fraud_validate.csv\"), content_type=\"csv\")"
   ]
  },
  {
   "cell_type": "code",
   "execution_count": 28,
   "id": "f7a6ae52-776c-4d6e-a3bd-491b75b7d416",
   "metadata": {},
   "outputs": [
    {
     "name": "stderr",
     "output_type": "stream",
     "text": [
      "INFO:sagemaker:Creating training-job with name: fraud-detection-second-rerun2025-08-07-10-18-07\n"
     ]
    },
    {
     "name": "stdout",
     "output_type": "stream",
     "text": [
      "2025-08-07 10:18:59 Starting - Starting the training job...\n",
      "2025-08-07 10:19:27 Starting - Preparing the instances for trainingCreateXgboostReport: InProgress\n",
      "ProfilerReport: InProgress\n",
      "...\n",
      "2025-08-07 10:20:00 Downloading - Downloading input data...\n",
      "2025-08-07 10:20:20 Downloading - Downloading the training image...\n",
      "2025-08-07 10:21:00 Training - Training image download completed. Training in progress..\u001b[34m[2025-08-07 10:21:04.482 ip-10-2-228-209.ec2.internal:7 INFO utils.py:27] RULE_JOB_STOP_SIGNAL_FILENAME: None\u001b[0m\n",
      "\u001b[34mINFO:sagemaker-containers:Imported framework sagemaker_xgboost_container.training\u001b[0m\n",
      "\u001b[34mINFO:sagemaker-containers:Failed to parse hyperparameter objective value binary:logistic to Json.\u001b[0m\n",
      "\u001b[34mReturning the value itself\u001b[0m\n",
      "\u001b[34mINFO:sagemaker-containers:No GPUs detected (normal if no gpus installed)\u001b[0m\n",
      "\u001b[34mINFO:sagemaker_xgboost_container.training:Running XGBoost Sagemaker in algorithm mode\u001b[0m\n",
      "\u001b[34mINFO:root:Determined delimiter of CSV input is ','\u001b[0m\n",
      "\u001b[34mINFO:root:Determined delimiter of CSV input is ','\u001b[0m\n",
      "\u001b[34mINFO:root:Determined delimiter of CSV input is ','\u001b[0m\n",
      "\u001b[34mINFO:root:Determined delimiter of CSV input is ','\u001b[0m\n",
      "\u001b[34mINFO:root:Single node training.\u001b[0m\n",
      "\u001b[34m[2025-08-07 10:21:04.578 ip-10-2-228-209.ec2.internal:7 INFO json_config.py:91] Creating hook from json_config at /opt/ml/input/config/debughookconfig.json.\u001b[0m\n",
      "\u001b[34m[2025-08-07 10:21:04.578 ip-10-2-228-209.ec2.internal:7 INFO hook.py:199] tensorboard_dir has not been set for the hook. SMDebug will not be exporting tensorboard summaries.\u001b[0m\n",
      "\u001b[34m[2025-08-07 10:21:04.579 ip-10-2-228-209.ec2.internal:7 INFO profiler_config_parser.py:102] User has disabled profiler.\u001b[0m\n",
      "\u001b[34m[2025-08-07 10:21:04.579 ip-10-2-228-209.ec2.internal:7 INFO hook.py:253] Saving to /opt/ml/output/tensors\u001b[0m\n",
      "\u001b[34m[2025-08-07 10:21:04.580 ip-10-2-228-209.ec2.internal:7 INFO state_store.py:77] The checkpoint config file /opt/ml/input/config/checkpointconfig.json does not exist.\u001b[0m\n",
      "\u001b[34mINFO:root:Debug hook created from config\u001b[0m\n",
      "\u001b[34mINFO:root:Train matrix has 429 rows and 14 columns\u001b[0m\n",
      "\u001b[34mINFO:root:Validation matrix has 429 rows\u001b[0m\n",
      "\u001b[34m[0]#011train-error:0.15385#011validation-error:0.16084\u001b[0m\n",
      "\u001b[34m[2025-08-07 10:21:04.587 ip-10-2-228-209.ec2.internal:7 INFO hook.py:413] Monitoring the collections: predictions, feature_importance, labels, metrics, hyperparameters\u001b[0m\n",
      "\u001b[34m[2025-08-07 10:21:04.591 ip-10-2-228-209.ec2.internal:7 INFO hook.py:476] Hook is writing from the hook with pid: 7\u001b[0m\n",
      "\u001b[34m[1]#011train-error:0.14219#011validation-error:0.18182\u001b[0m\n",
      "\u001b[34m[2]#011train-error:0.13520#011validation-error:0.17483\u001b[0m\n",
      "\u001b[34m[3]#011train-error:0.08392#011validation-error:0.10723\u001b[0m\n",
      "\u001b[34m[4]#011train-error:0.08392#011validation-error:0.10490\u001b[0m\n",
      "\u001b[34m[5]#011train-error:0.07925#011validation-error:0.10723\u001b[0m\n",
      "\u001b[34m[6]#011train-error:0.07925#011validation-error:0.10723\u001b[0m\n",
      "\u001b[34m[7]#011train-error:0.08392#011validation-error:0.10956\u001b[0m\n",
      "\u001b[34m[8]#011train-error:0.08392#011validation-error:0.10490\u001b[0m\n",
      "\u001b[34m[9]#011train-error:0.07925#011validation-error:0.09324\u001b[0m\n",
      "\u001b[34m[10]#011train-error:0.07925#011validation-error:0.09324\u001b[0m\n",
      "\u001b[34m[11]#011train-error:0.07925#011validation-error:0.09324\u001b[0m\n",
      "\u001b[34m[12]#011train-error:0.07925#011validation-error:0.09324\u001b[0m\n",
      "\u001b[34m[13]#011train-error:0.07925#011validation-error:0.09557\u001b[0m\n",
      "\u001b[34m[14]#011train-error:0.07925#011validation-error:0.09324\u001b[0m\n",
      "\u001b[34m[15]#011train-error:0.07692#011validation-error:0.09557\u001b[0m\n",
      "\u001b[34m[16]#011train-error:0.06993#011validation-error:0.09557\u001b[0m\n",
      "\u001b[34m[17]#011train-error:0.06993#011validation-error:0.09324\u001b[0m\n",
      "\u001b[34m[18]#011train-error:0.07226#011validation-error:0.09091\u001b[0m\n",
      "\u001b[34m[19]#011train-error:0.06527#011validation-error:0.08858\u001b[0m\n",
      "\u001b[34m[20]#011train-error:0.06527#011validation-error:0.08858\u001b[0m\n",
      "\u001b[34m[21]#011train-error:0.06527#011validation-error:0.08625\u001b[0m\n",
      "\u001b[34m[22]#011train-error:0.06527#011validation-error:0.08625\u001b[0m\n",
      "\u001b[34m[23]#011train-error:0.06294#011validation-error:0.08625\u001b[0m\n",
      "\u001b[34m[24]#011train-error:0.06294#011validation-error:0.08858\u001b[0m\n",
      "\u001b[34m[25]#011train-error:0.06294#011validation-error:0.08858\u001b[0m\n",
      "\u001b[34m[26]#011train-error:0.06294#011validation-error:0.08858\u001b[0m\n",
      "\u001b[34m[27]#011train-error:0.06294#011validation-error:0.09557\u001b[0m\n",
      "\u001b[34m[28]#011train-error:0.06294#011validation-error:0.09324\u001b[0m\n",
      "\u001b[34m[29]#011train-error:0.06061#011validation-error:0.09324\u001b[0m\n",
      "\u001b[34m[30]#011train-error:0.06061#011validation-error:0.09324\u001b[0m\n",
      "\u001b[34m[31]#011train-error:0.06294#011validation-error:0.09324\u001b[0m\n",
      "\u001b[34m[32]#011train-error:0.06294#011validation-error:0.09324\u001b[0m\n",
      "\u001b[34m[33]#011train-error:0.06294#011validation-error:0.09324\u001b[0m\n",
      "\u001b[34m[34]#011train-error:0.06294#011validation-error:0.09324\u001b[0m\n",
      "\u001b[34m[35]#011train-error:0.06294#011validation-error:0.09324\u001b[0m\n",
      "\u001b[34m[36]#011train-error:0.06294#011validation-error:0.09324\u001b[0m\n",
      "\u001b[34m[37]#011train-error:0.06061#011validation-error:0.09091\u001b[0m\n",
      "\u001b[34m[38]#011train-error:0.06061#011validation-error:0.09091\u001b[0m\n",
      "\u001b[34m[39]#011train-error:0.05828#011validation-error:0.09091\u001b[0m\n",
      "\u001b[34m[40]#011train-error:0.06061#011validation-error:0.09091\u001b[0m\n",
      "\u001b[34m[41]#011train-error:0.06061#011validation-error:0.09091\u001b[0m\n",
      "\u001b[34m[42]#011train-error:0.06061#011validation-error:0.09091\u001b[0m\n",
      "\u001b[34m[43]#011train-error:0.05828#011validation-error:0.09091\u001b[0m\n",
      "\u001b[34m[44]#011train-error:0.06061#011validation-error:0.09091\u001b[0m\n",
      "\u001b[34m[45]#011train-error:0.06294#011validation-error:0.09091\u001b[0m\n",
      "\u001b[34m[46]#011train-error:0.06061#011validation-error:0.09091\u001b[0m\n",
      "\u001b[34m[47]#011train-error:0.06061#011validation-error:0.09091\u001b[0m\n",
      "\u001b[34m[48]#011train-error:0.06294#011validation-error:0.09091\u001b[0m\n",
      "\u001b[34m[49]#011train-error:0.06294#011validation-error:0.09091\u001b[0m\n",
      "\n",
      "2025-08-07 10:21:24 Uploading - Uploading generated training model\n",
      "2025-08-07 10:21:24 Completed - Training job completed\n",
      "Training seconds: 100\n",
      "Billable seconds: 100\n"
     ]
    }
   ],
   "source": [
    "xgb_model.fit({\"train\": train_ip, \"validation\": valid_ip}, wait=True, job_name=job_name)"
   ]
  },
  {
   "cell_type": "markdown",
   "id": "00806ff0-171f-4977-8435-5f4a61c543ed",
   "metadata": {},
   "source": [
    "*We can see that model already started converging to the minima after 37 rounds*"
   ]
  },
  {
   "cell_type": "markdown",
   "id": "685b64ae-3670-474b-9ea4-764c788e07d2",
   "metadata": {},
   "source": [
    "### 3.5. Analyze SageMaker Debugger and Profiler Reports\n",
    "After training, we can download and view the SageMaker Debugger and Profiler reports to get insights into the training process and resource utilization."
   ]
  },
  {
   "cell_type": "code",
   "execution_count": 35,
   "id": "03ef3d39-29c4-42b3-8ee7-6aec07d93c14",
   "metadata": {},
   "outputs": [
    {
     "name": "stdout",
     "output_type": "stream",
     "text": [
      "2025-08-07 10:21:13        312 fraud-detection/model/fraud-detection-second-rerun2025-08-07-10-18-07/rule-output/CreateXgboostReport/xgboost-reports/ConfusionMatrix.json\n",
      "2025-08-07 10:21:13        732 fraud-detection/model/fraud-detection-second-rerun2025-08-07-10-18-07/rule-output/CreateXgboostReport/xgboost-reports/EvaluationMetrics.json\n",
      "2025-08-07 10:21:13       1826 fraud-detection/model/fraud-detection-second-rerun2025-08-07-10-18-07/rule-output/CreateXgboostReport/xgboost-reports/FeatureImportance.json\n",
      "2025-08-07 10:21:13        508 fraud-detection/model/fraud-detection-second-rerun2025-08-07-10-18-07/rule-output/CreateXgboostReport/xgboost-reports/IterativeClassAccuracy.json\n",
      "2025-08-07 10:21:13        176 fraud-detection/model/fraud-detection-second-rerun2025-08-07-10-18-07/rule-output/CreateXgboostReport/xgboost-reports/LabelsDistribution.json\n",
      "2025-08-07 10:21:13       1822 fraud-detection/model/fraud-detection-second-rerun2025-08-07-10-18-07/rule-output/CreateXgboostReport/xgboost-reports/LossData.json\n",
      "2025-08-07 10:21:13       9191 fraud-detection/model/fraud-detection-second-rerun2025-08-07-10-18-07/rule-output/CreateXgboostReport/xgboost-reports/ROCCurve.json\n",
      "2025-08-07 10:21:13       1639 fraud-detection/model/fraud-detection-second-rerun2025-08-07-10-18-07/rule-output/CreateXgboostReport/xgboost-reports/ResidualDistribution.json\n",
      "2025-08-07 10:21:13     375215 fraud-detection/model/fraud-detection-second-rerun2025-08-07-10-18-07/rule-output/CreateXgboostReport/xgboost_report.html\n",
      "2025-08-07 10:21:13     174502 fraud-detection/model/fraud-detection-second-rerun2025-08-07-10-18-07/rule-output/CreateXgboostReport/xgboost_report.ipynb\n",
      "2025-08-07 10:21:28     329692 fraud-detection/model/fraud-detection-second-rerun2025-08-07-10-18-07/rule-output/ProfilerReport/profiler-output/profiler-report.html\n",
      "2025-08-07 10:21:27     171053 fraud-detection/model/fraud-detection-second-rerun2025-08-07-10-18-07/rule-output/ProfilerReport/profiler-output/profiler-report.ipynb\n",
      "2025-08-07 10:21:23        191 fraud-detection/model/fraud-detection-second-rerun2025-08-07-10-18-07/rule-output/ProfilerReport/profiler-output/profiler-reports/BatchSize.json\n",
      "2025-08-07 10:21:23        199 fraud-detection/model/fraud-detection-second-rerun2025-08-07-10-18-07/rule-output/ProfilerReport/profiler-output/profiler-reports/CPUBottleneck.json\n",
      "2025-08-07 10:21:23        126 fraud-detection/model/fraud-detection-second-rerun2025-08-07-10-18-07/rule-output/ProfilerReport/profiler-output/profiler-reports/Dataloader.json\n",
      "2025-08-07 10:21:23        127 fraud-detection/model/fraud-detection-second-rerun2025-08-07-10-18-07/rule-output/ProfilerReport/profiler-output/profiler-reports/GPUMemoryIncrease.json\n",
      "2025-08-07 10:21:23        198 fraud-detection/model/fraud-detection-second-rerun2025-08-07-10-18-07/rule-output/ProfilerReport/profiler-output/profiler-reports/IOBottleneck.json\n",
      "2025-08-07 10:21:23        119 fraud-detection/model/fraud-detection-second-rerun2025-08-07-10-18-07/rule-output/ProfilerReport/profiler-output/profiler-reports/LoadBalancing.json\n",
      "2025-08-07 10:21:23        151 fraud-detection/model/fraud-detection-second-rerun2025-08-07-10-18-07/rule-output/ProfilerReport/profiler-output/profiler-reports/LowGPUUtilization.json\n",
      "2025-08-07 10:21:23        179 fraud-detection/model/fraud-detection-second-rerun2025-08-07-10-18-07/rule-output/ProfilerReport/profiler-output/profiler-reports/MaxInitializationTime.json\n",
      "2025-08-07 10:21:23        133 fraud-detection/model/fraud-detection-second-rerun2025-08-07-10-18-07/rule-output/ProfilerReport/profiler-output/profiler-reports/OverallFrameworkMetrics.json\n",
      "2025-08-07 10:21:23        467 fraud-detection/model/fraud-detection-second-rerun2025-08-07-10-18-07/rule-output/ProfilerReport/profiler-output/profiler-reports/OverallSystemUsage.json\n",
      "2025-08-07 10:21:23        156 fraud-detection/model/fraud-detection-second-rerun2025-08-07-10-18-07/rule-output/ProfilerReport/profiler-output/profiler-reports/StepOutlier.json\n"
     ]
    }
   ],
   "source": [
    "rule_output_path = xgb_model.output_path + \"/\" + xgb_model.latest_training_job.job_name + \"/rule-output\"\n",
    "! aws s3 ls {rule_output_path} --recursive"
   ]
  },
  {
   "cell_type": "code",
   "execution_count": 36,
   "id": "b3c6e477-e081-4116-91ab-b41c4e17782d",
   "metadata": {},
   "outputs": [
    {
     "name": "stdout",
     "output_type": "stream",
     "text": [
      "download: s3://test-bucket-second-rerun/fraud-detection/model/fraud-detection-second-rerun2025-08-07-10-18-07/rule-output/CreateXgboostReport/xgboost-reports/FeatureImportance.json to CreateXgboostReport/xgboost-reports/FeatureImportance.json\n",
      "download: s3://test-bucket-second-rerun/fraud-detection/model/fraud-detection-second-rerun2025-08-07-10-18-07/rule-output/CreateXgboostReport/xgboost-reports/ConfusionMatrix.json to CreateXgboostReport/xgboost-reports/ConfusionMatrix.json\n",
      "download: s3://test-bucket-second-rerun/fraud-detection/model/fraud-detection-second-rerun2025-08-07-10-18-07/rule-output/CreateXgboostReport/xgboost-reports/LossData.json to CreateXgboostReport/xgboost-reports/LossData.json\n",
      "download: s3://test-bucket-second-rerun/fraud-detection/model/fraud-detection-second-rerun2025-08-07-10-18-07/rule-output/CreateXgboostReport/xgboost-reports/IterativeClassAccuracy.json to CreateXgboostReport/xgboost-reports/IterativeClassAccuracy.json\n",
      "download: s3://test-bucket-second-rerun/fraud-detection/model/fraud-detection-second-rerun2025-08-07-10-18-07/rule-output/CreateXgboostReport/xgboost-reports/EvaluationMetrics.json to CreateXgboostReport/xgboost-reports/EvaluationMetrics.json\n",
      "download: s3://test-bucket-second-rerun/fraud-detection/model/fraud-detection-second-rerun2025-08-07-10-18-07/rule-output/CreateXgboostReport/xgboost-reports/LabelsDistribution.json to CreateXgboostReport/xgboost-reports/LabelsDistribution.json\n",
      "download: s3://test-bucket-second-rerun/fraud-detection/model/fraud-detection-second-rerun2025-08-07-10-18-07/rule-output/ProfilerReport/profiler-output/profiler-reports/BatchSize.json to ProfilerReport/profiler-output/profiler-reports/BatchSize.json\n",
      "download: s3://test-bucket-second-rerun/fraud-detection/model/fraud-detection-second-rerun2025-08-07-10-18-07/rule-output/ProfilerReport/profiler-output/profiler-reports/Dataloader.json to ProfilerReport/profiler-output/profiler-reports/Dataloader.json\n",
      "download: s3://test-bucket-second-rerun/fraud-detection/model/fraud-detection-second-rerun2025-08-07-10-18-07/rule-output/ProfilerReport/profiler-output/profiler-reports/CPUBottleneck.json to ProfilerReport/profiler-output/profiler-reports/CPUBottleneck.json\n",
      "download: s3://test-bucket-second-rerun/fraud-detection/model/fraud-detection-second-rerun2025-08-07-10-18-07/rule-output/ProfilerReport/profiler-output/profiler-reports/GPUMemoryIncrease.json to ProfilerReport/profiler-output/profiler-reports/GPUMemoryIncrease.json\n",
      "download: s3://test-bucket-second-rerun/fraud-detection/model/fraud-detection-second-rerun2025-08-07-10-18-07/rule-output/CreateXgboostReport/xgboost-reports/ROCCurve.json to CreateXgboostReport/xgboost-reports/ROCCurve.json\n",
      "download: s3://test-bucket-second-rerun/fraud-detection/model/fraud-detection-second-rerun2025-08-07-10-18-07/rule-output/ProfilerReport/profiler-output/profiler-reports/MaxInitializationTime.json to ProfilerReport/profiler-output/profiler-reports/MaxInitializationTime.json\n",
      "download: s3://test-bucket-second-rerun/fraud-detection/model/fraud-detection-second-rerun2025-08-07-10-18-07/rule-output/ProfilerReport/profiler-output/profiler-reports/OverallFrameworkMetrics.json to ProfilerReport/profiler-output/profiler-reports/OverallFrameworkMetrics.json\n",
      "download: s3://test-bucket-second-rerun/fraud-detection/model/fraud-detection-second-rerun2025-08-07-10-18-07/rule-output/ProfilerReport/profiler-output/profiler-reports/OverallSystemUsage.json to ProfilerReport/profiler-output/profiler-reports/OverallSystemUsage.json\n",
      "download: s3://test-bucket-second-rerun/fraud-detection/model/fraud-detection-second-rerun2025-08-07-10-18-07/rule-output/ProfilerReport/profiler-output/profiler-reports/StepOutlier.json to ProfilerReport/profiler-output/profiler-reports/StepOutlier.json\n",
      "download: s3://test-bucket-second-rerun/fraud-detection/model/fraud-detection-second-rerun2025-08-07-10-18-07/rule-output/ProfilerReport/profiler-output/profiler-reports/LoadBalancing.json to ProfilerReport/profiler-output/profiler-reports/LoadBalancing.json\n",
      "download: s3://test-bucket-second-rerun/fraud-detection/model/fraud-detection-second-rerun2025-08-07-10-18-07/rule-output/CreateXgboostReport/xgboost-reports/ResidualDistribution.json to CreateXgboostReport/xgboost-reports/ResidualDistribution.json\n",
      "download: s3://test-bucket-second-rerun/fraud-detection/model/fraud-detection-second-rerun2025-08-07-10-18-07/rule-output/ProfilerReport/profiler-output/profiler-reports/LowGPUUtilization.json to ProfilerReport/profiler-output/profiler-reports/LowGPUUtilization.json\n",
      "download: s3://test-bucket-second-rerun/fraud-detection/model/fraud-detection-second-rerun2025-08-07-10-18-07/rule-output/ProfilerReport/profiler-output/profiler-report.ipynb to ProfilerReport/profiler-output/profiler-report.ipynb\n",
      "download: s3://test-bucket-second-rerun/fraud-detection/model/fraud-detection-second-rerun2025-08-07-10-18-07/rule-output/ProfilerReport/profiler-output/profiler-reports/IOBottleneck.json to ProfilerReport/profiler-output/profiler-reports/IOBottleneck.json\n",
      "download: s3://test-bucket-second-rerun/fraud-detection/model/fraud-detection-second-rerun2025-08-07-10-18-07/rule-output/CreateXgboostReport/xgboost_report.html to CreateXgboostReport/xgboost_report.html\n",
      "download: s3://test-bucket-second-rerun/fraud-detection/model/fraud-detection-second-rerun2025-08-07-10-18-07/rule-output/ProfilerReport/profiler-output/profiler-report.html to ProfilerReport/profiler-output/profiler-report.html\n",
      "download: s3://test-bucket-second-rerun/fraud-detection/model/fraud-detection-second-rerun2025-08-07-10-18-07/rule-output/CreateXgboostReport/xgboost_report.ipynb to CreateXgboostReport/xgboost_report.ipynb\n"
     ]
    }
   ],
   "source": [
    "! aws s3 cp {rule_output_path} ./ --recursive"
   ]
  },
  {
   "cell_type": "code",
   "execution_count": 39,
   "id": "1c4cd10c",
   "metadata": {},
   "outputs": [
    {
     "data": {
      "text/plain": [
       "'Click link below to view the XGBoost Training report'"
      ]
     },
     "metadata": {},
     "output_type": "display_data"
    },
    {
     "data": {
      "text/html": [
       "<a href='CreateXgboostReport/xgboost_report.html' target='_blank'>CreateXgboostReport/xgboost_report.html</a><br>"
      ],
      "text/plain": [
       "/home/ec2-user/SageMaker/CreateXgboostReport/xgboost_report.html"
      ]
     },
     "metadata": {},
     "output_type": "display_data"
    }
   ],
   "source": [
    "display(\"Click link below to view the XGBoost Training report\", FileLink(\"CreateXgboostReport/xgboost_report.html\"))"
   ]
  },
  {
   "cell_type": "code",
   "execution_count": 40,
   "id": "9dd23d12-0754-44a0-ac14-d9fb0cdc8089",
   "metadata": {},
   "outputs": [
    {
     "data": {
      "text/plain": [
       "'Click link below to view the profiler report'"
      ]
     },
     "metadata": {},
     "output_type": "display_data"
    },
    {
     "data": {
      "text/html": [
       "<a href='ProfilerReport/profiler-output/profiler-report.html' target='_blank'>ProfilerReport/profiler-output/profiler-report.html</a><br>"
      ],
      "text/plain": [
       "/home/ec2-user/SageMaker/ProfilerReport/profiler-output/profiler-report.html"
      ]
     },
     "metadata": {},
     "output_type": "display_data"
    }
   ],
   "source": [
    "profiler_report_name = [rule[\"RuleConfigurationName\"] \n",
    "                        for rule in xgb_model.latest_training_job.rule_job_summary() \n",
    "                        if \"Profiler\" in rule[\"RuleConfigurationName\"]][0]\n",
    "display(\"Click link below to view the profiler report\", FileLink(profiler_report_name+\"/profiler-output/profiler-report.html\"))"
   ]
  },
  {
   "cell_type": "markdown",
   "id": "7214d5ce",
   "metadata": {},
   "source": [
    "---"
   ]
  },
  {
   "cell_type": "markdown",
   "id": "25124b16-2d0b-439a-8d5b-4caf8c91875b",
   "metadata": {},
   "source": [
    "## 4. Deploy and Evaluate the Initial Model"
   ]
  },
  {
   "cell_type": "markdown",
   "id": "93e854f6",
   "metadata": {},
   "source": [
    "### 4.1. Deploy the Model to a SageMaker Endpoint\n",
    "We deploy the trained model to a real-time endpoint, which can be used for making predictions. We specify the instance type and count for the endpoint."
   ]
  },
  {
   "cell_type": "code",
   "execution_count": 41,
   "id": "3d8cef60-2733-4cb4-86de-4e81a653245c",
   "metadata": {},
   "outputs": [
    {
     "name": "stderr",
     "output_type": "stream",
     "text": [
      "INFO:sagemaker:Creating model with name: fraud-detection-second-rerun-2025-08-07-10-25-07-149\n",
      "INFO:sagemaker:Creating endpoint-config with name fraud-detection-second-rerun-2025-08-07-10-25-07-149\n",
      "INFO:sagemaker:Creating endpoint with name fraud-detection-second-rerun-2025-08-07-10-25-07-149\n"
     ]
    },
    {
     "name": "stdout",
     "output_type": "stream",
     "text": [
      "------!Endpoint name: fraud-detection-second-rerun-2025-08-07-10-25-07-149\n"
     ]
    }
   ],
   "source": [
    "xgb_predictor = xgb_model.deploy(\n",
    "    initial_instance_count=1,\n",
    "    instance_type='ml.m5.large',\n",
    "    serializer=CSVSerializer()\n",
    ")\n",
    "\n",
    "print(f\"Endpoint name: {xgb_predictor.endpoint_name}\")"
   ]
  },
  {
   "cell_type": "markdown",
   "id": "2574ece8",
   "metadata": {},
   "source": [
    "### 4.2. Evaluate the Deployed Model\n",
    "We use the test set to evaluate the performance of our deployed model. We make predictions on the test data and then calculate various classification metrics."
   ]
  },
  {
   "cell_type": "markdown",
   "id": "a19a9862-ec8a-4afc-b807-02be0f92372a",
   "metadata": {},
   "source": [
    "#### 4.2.1. Prepare Test Data"
   ]
  },
  {
   "cell_type": "code",
   "execution_count": 42,
   "id": "a6a272c3-a9be-4fcb-81d7-f2ddf90e5017",
   "metadata": {},
   "outputs": [],
   "source": [
    "X_test = test.iloc[:, 1:]\n",
    "y_true = test.iloc[:, 0]"
   ]
  },
  {
   "cell_type": "markdown",
   "id": "38bce18b",
   "metadata": {},
   "source": [
    "Convert to numpy array for prediction"
   ]
  },
  {
   "cell_type": "code",
   "execution_count": 43,
   "id": "b1a3864c-8462-44d4-99c4-52d0f44ecfd0",
   "metadata": {},
   "outputs": [],
   "source": [
    "if isinstance(X_test, pd.DataFrame):\n",
    "    X_test_np = X_test.to_numpy()\n",
    "else:\n",
    "    X_test_np = X_test"
   ]
  },
  {
   "cell_type": "markdown",
   "id": "1c9e6cd5",
   "metadata": {},
   "source": [
    "#### 4.2.2. Make Predictions"
   ]
  },
  {
   "cell_type": "code",
   "execution_count": 44,
   "id": "97aa90ef-dcce-4586-b60e-ec413707ade4",
   "metadata": {},
   "outputs": [],
   "source": [
    "raw_predictions = xgb_predictor.predict(X_test_np)\n",
    "predictions_str = raw_predictions.decode('utf-8')\n",
    "predicted_probabilities = np.fromstring(predictions_str, sep=',')"
   ]
  },
  {
   "cell_type": "code",
   "execution_count": 45,
   "id": "db9e3b81-1ab1-4fca-857c-87da278c96e0",
   "metadata": {},
   "outputs": [],
   "source": [
    "predicted_labels = (predicted_probabilities > 0.5).astype(int)"
   ]
  },
  {
   "cell_type": "markdown",
   "id": "87161d8f",
   "metadata": {},
   "source": [
    "#### 4.2.3. Calculate and Display Metrics"
   ]
  },
  {
   "cell_type": "code",
   "execution_count": 46,
   "id": "56aacf65-aeed-4c33-9bb9-331c4cfe9302",
   "metadata": {},
   "outputs": [],
   "source": [
    "accuracy = accuracy_score(y_true, predicted_labels)\n",
    "precision = precision_score(y_true, predicted_labels)\n",
    "recall = recall_score(y_true, predicted_labels)\n",
    "f1 = f1_score(y_true, predicted_labels)\n",
    "conf_matrix = confusion_matrix(y_true, predicted_labels)"
   ]
  },
  {
   "cell_type": "code",
   "execution_count": 47,
   "id": "ea6ff4ff-0cda-41f7-8a6a-3424d9884aef",
   "metadata": {},
   "outputs": [
    {
     "name": "stdout",
     "output_type": "stream",
     "text": [
      "Accuracy: 0.9371\n",
      "Precision: 0.9476\n",
      "Recall: 0.9256\n",
      "F1-Score: 0.9365\n"
     ]
    }
   ],
   "source": [
    "print(f\"Accuracy: {accuracy:.4f}\")\n",
    "print(f\"Precision: {precision:.4f}\")\n",
    "print(f\"Recall: {recall:.4f}\")\n",
    "print(f\"F1-Score: {f1:.4f}\")"
   ]
  },
  {
   "cell_type": "code",
   "execution_count": 48,
   "id": "bf3941e5-5171-4e78-888b-ee6158da4cab",
   "metadata": {},
   "outputs": [
    {
     "name": "stdout",
     "output_type": "stream",
     "text": [
      "Confusion Matrix:\n"
     ]
    },
    {
     "data": {
      "image/png": "[encoded data removed]",
      "text/plain": [
       "<Figure size 600x400 with 2 Axes>"
      ]
     },
     "metadata": {},
     "output_type": "display_data"
    }
   ],
   "source": [
    "print(\"Confusion Matrix:\")\n",
    "plt.figure(figsize=(6, 4))\n",
    "sns.heatmap(conf_matrix, annot=True, fmt='d', cmap='Blues',\n",
    "            xticklabels=['Predicted 0', 'Predicted 1'],\n",
    "            yticklabels=['Actual 0', 'Actual 1'])\n",
    "plt.ylabel('Actual')\n",
    "plt.xlabel('Predicted')\n",
    "plt.show()"
   ]
  },
  {
   "cell_type": "markdown",
   "id": "d989aa1b",
   "metadata": {},
   "source": [
    "---"
   ]
  },
  {
   "cell_type": "markdown",
   "id": "c98650f2-8073-4e64-8c40-11922be14661",
   "metadata": {},
   "source": [
    "## 5. Hyperparameter Tuning\n",
    "To improve our model's performance, we use SageMaker's automatic hyperparameter tuning capabilities."
   ]
  },
  {
   "cell_type": "markdown",
   "id": "b8b172c9",
   "metadata": {},
   "source": [
    "### 5.1. Define Hyperparameter Ranges\n",
    "We specify the ranges for the hyperparameters we want to tune."
   ]
  },
  {
   "cell_type": "code",
   "execution_count": 49,
   "id": "bed146c5-322c-4bc6-a1b9-06d709e9279a",
   "metadata": {},
   "outputs": [],
   "source": [
    "hyperparameter_ranges = {\n",
    "    \"max_depth\": IntegerParameter(4, 7),\n",
    "    \"eta\": ContinuousParameter(0.1, 0.3),\n",
    "    \"gamma\": ContinuousParameter(3.0, 5.0),\n",
    "    \"min_child_weight\": IntegerParameter(5, 8),\n",
    "    \"subsample\": ContinuousParameter(0.6, 0.8),\n",
    "}"
   ]
  },
  {
   "cell_type": "markdown",
   "id": "34b60512",
   "metadata": {},
   "source": [
    "### 5.2. Configure the Hyperparameter Tuner\n",
    "We create a `HyperparameterTuner` object, specifying the base estimator, the objective metric to optimize, the hyperparameter ranges, and the number of tuning jobs to run."
   ]
  },
  {
   "cell_type": "code",
   "execution_count": 50,
   "id": "0637929a-e719-4b21-b55a-28c423488ae7",
   "metadata": {},
   "outputs": [],
   "source": [
    "tuner = HyperparameterTuner(\n",
    "    estimator=xgb_model,\n",
    "    objective_metric_name=\"validation:error\",\n",
    "    hyperparameter_ranges=hyperparameter_ranges,\n",
    "    objective_type=\"Minimize\",\n",
    "    max_jobs=20,\n",
    "    max_parallel_jobs=5,\n",
    ")"
   ]
  },
  {
   "cell_type": "markdown",
   "id": "234306e8-8eb4-49c0-82e7-0de55bb9b8d7",
   "metadata": {},
   "source": [
    "### 5.3. Start the Tuning Job\n",
    "We start the hyperparameter tuning job by calling the `fit()` method on the tuner object."
   ]
  },
  {
   "cell_type": "code",
   "execution_count": 51,
   "id": "3696049f-a5e9-4af6-ac59-eb0456af3b68",
   "metadata": {},
   "outputs": [
    {
     "name": "stderr",
     "output_type": "stream",
     "text": [
      "INFO:sagemaker:Creating hyperparameter tuning job with name: sagemaker-xgboost-250807-1029\n"
     ]
    },
    {
     "name": "stdout",
     "output_type": "stream",
     "text": [
      "............................................................................!\n"
     ]
    }
   ],
   "source": [
    "tuner.fit({\"train\": train_ip, \"validation\": valid_ip})"
   ]
  },
  {
   "cell_type": "markdown",
   "id": "d624079f-c3de-4a90-8bd8-9681a97bf25e",
   "metadata": {},
   "source": [
    "### 5.4. Analyze Tuning Results\n",
    "After the tuning job is complete, we can retrieve the best-performing model and its hyperparameters."
   ]
  },
  {
   "cell_type": "code",
   "execution_count": 52,
   "id": "ae64b594-fef9-44be-b48e-4926150df241",
   "metadata": {},
   "outputs": [
    {
     "name": "stdout",
     "output_type": "stream",
     "text": [
      "\n",
      "2025-08-07 10:35:43 Starting - Found matching resource for reuse\n",
      "2025-08-07 10:35:43 Downloading - Downloading the training image\n",
      "2025-08-07 10:35:43 Training - Training image download completed. Training in progress.\n",
      "2025-08-07 10:35:43 Uploading - Uploading generated training model\n",
      "2025-08-07 10:35:43 Completed - Resource retained for reuse\n",
      "Best performing model's hyperparameters:\n"
     ]
    },
    {
     "data": {
      "text/plain": [
       "{'_tuning_objective_metric': 'validation:error',\n",
       " 'eta': '0.20024249265390176',\n",
       " 'gamma': '4.451655992726725',\n",
       " 'max_depth': '7',\n",
       " 'min_child_weight': '5',\n",
       " 'num_round': '50',\n",
       " 'objective': 'binary:logistic',\n",
       " 'subsample': '0.7902051456709067'}"
      ]
     },
     "execution_count": 52,
     "metadata": {},
     "output_type": "execute_result"
    }
   ],
   "source": [
    "best_tuner = tuner.best_estimator()\n",
    "print(\"Best performing model's hyperparameters:\")\n",
    "best_tuner.hyperparameters()"
   ]
  },
  {
   "cell_type": "code",
   "execution_count": 53,
   "id": "eb9ac28d-f6e8-4d5e-b24f-de6acd5b7c8d",
   "metadata": {},
   "outputs": [
    {
     "name": "stdout",
     "output_type": "stream",
     "text": [
      "Best training job name:\n",
      "sagemaker-xgboost-250807-1029-017-c1550cb4\n"
     ]
    }
   ],
   "source": [
    "print(\"Best training job name:\")\n",
    "print(tuner.best_training_job())"
   ]
  },
  {
   "cell_type": "code",
   "execution_count": 54,
   "id": "82b6a27f-da5b-43f2-abf9-afe68068ee9b",
   "metadata": {},
   "outputs": [
    {
     "name": "stdout",
     "output_type": "stream",
     "text": [
      "Best model artifact location:\n",
      "s3://test-bucket-second-rerun/fraud-detection/model/sagemaker-xgboost-250807-1029-017-c1550cb4/output/model.tar.gz\n"
     ]
    }
   ],
   "source": [
    "print(\"Best model artifact location:\")\n",
    "print(best_tuner.model_data)"
   ]
  },
  {
   "cell_type": "markdown",
   "id": "957b240e",
   "metadata": {},
   "source": [
    "---"
   ]
  },
  {
   "cell_type": "markdown",
   "id": "f69374f0-5e46-45b2-aa9b-e4fdd99f39dc",
   "metadata": {},
   "source": [
    "## 6. Deploy and Evaluate the Tuned Model"
   ]
  },
  {
   "cell_type": "markdown",
   "id": "b2ab144a",
   "metadata": {},
   "source": [
    "### 6.1. Deploy the Best Model\n",
    "We deploy the best estimator found by the hyperparameter tuning job to a new SageMaker endpoint."
   ]
  },
  {
   "cell_type": "code",
   "execution_count": 55,
   "id": "57b826fb-954d-453a-bf1e-5c92172c7ee0",
   "metadata": {},
   "outputs": [
    {
     "name": "stderr",
     "output_type": "stream",
     "text": [
      "INFO:sagemaker:Creating model with name: sagemaker-xgboost-2025-08-07-10-37-39-896\n",
      "INFO:sagemaker:Creating endpoint-config with name sagemaker-xgboost-2025-08-07-10-37-39-896\n",
      "INFO:sagemaker:Creating endpoint with name sagemaker-xgboost-2025-08-07-10-37-39-896\n"
     ]
    },
    {
     "name": "stdout",
     "output_type": "stream",
     "text": [
      "------!"
     ]
    }
   ],
   "source": [
    "tuned_xgb_predictor=best_tuner.deploy(\n",
    "    initial_instance_count=1,\n",
    "    instance_type='ml.m5.large',\n",
    "    serializer=CSVSerializer()\n",
    ")"
   ]
  },
  {
   "cell_type": "code",
   "execution_count": 56,
   "id": "0253d898-494d-42e8-ba3c-3619b4365072",
   "metadata": {},
   "outputs": [
    {
     "name": "stdout",
     "output_type": "stream",
     "text": [
      "Tuned model endpoint name: sagemaker-xgboost-2025-08-07-10-37-39-896\n"
     ]
    }
   ],
   "source": [
    "print(f\"Tuned model endpoint name: {tuned_xgb_predictor.endpoint_name}\")"
   ]
  },
  {
   "cell_type": "markdown",
   "id": "6253825e-467f-4a15-b81b-edaf8bde5d16",
   "metadata": {},
   "source": [
    "### 6.2. Evaluate the Tuned Model\n",
    "We evaluate the tuned model on the same test set to compare its performance against the initial model."
   ]
  },
  {
   "cell_type": "markdown",
   "id": "bd09bead",
   "metadata": {},
   "source": [
    "#### 6.2.1. Make Predictions with the Tuned Model"
   ]
  },
  {
   "cell_type": "code",
   "execution_count": 57,
   "id": "43fb985b-4248-4f85-b0d1-3813ab6c1dfa",
   "metadata": {},
   "outputs": [],
   "source": [
    "raw_predictions = tuned_xgb_predictor.predict(X_test_np)\n",
    "predictions_str = raw_predictions.decode('utf-8')\n",
    "predicted_probabilities = np.fromstring(predictions_str, sep=',')"
   ]
  },
  {
   "cell_type": "code",
   "execution_count": 58,
   "id": "424a0dc3-5586-4e93-bbf1-b308a9b86626",
   "metadata": {},
   "outputs": [],
   "source": [
    "predicted_labels = (predicted_probabilities > 0.5).astype(int)"
   ]
  },
  {
   "cell_type": "markdown",
   "id": "6d2d4c12",
   "metadata": {},
   "source": [
    "#### 6.2.2. Calculate and Display Tuned Model Metrics"
   ]
  },
  {
   "cell_type": "code",
   "execution_count": 59,
   "id": "07d7b325-6233-4384-a73a-7ab0a78a72ef",
   "metadata": {},
   "outputs": [],
   "source": [
    "tuned_accuracy = accuracy_score(y_true, predicted_labels)\n",
    "tuned_precision = precision_score(y_true, predicted_labels)\n",
    "tuned_recall = recall_score(y_true, predicted_labels)\n",
    "tuned_f1 = f1_score(y_true, predicted_labels)\n",
    "tuned_conf_matrix = confusion_matrix(y_true, predicted_labels)"
   ]
  },
  {
   "cell_type": "code",
   "execution_count": 60,
   "id": "8ff0d0f3-c5ce-41b1-87df-f770b62faffb",
   "metadata": {},
   "outputs": [
    {
     "name": "stdout",
     "output_type": "stream",
     "text": [
      "Accuracy: 0.9441\n",
      "Precision: 0.9526\n",
      "Recall: 0.9349\n",
      "F1-Score: 0.9437\n"
     ]
    }
   ],
   "source": [
    "print(f\"Accuracy: {tuned_accuracy:.4f}\")\n",
    "print(f\"Precision: {tuned_precision:.4f}\")\n",
    "print(f\"Recall: {tuned_recall:.4f}\")\n",
    "print(f\"F1-Score: {tuned_f1:.4f}\")"
   ]
  },
  {
   "cell_type": "code",
   "execution_count": 61,
   "id": "1e7c2f93-2df6-4dc4-9afd-49fe9bfb13ca",
   "metadata": {},
   "outputs": [
    {
     "name": "stdout",
     "output_type": "stream",
     "text": [
      "Confusion Matrix:\n"
     ]
    },
    {
     "data": {
      "image/png": "[encoded data removed]",
      "text/plain": [
       "<Figure size 600x400 with 2 Axes>"
      ]
     },
     "metadata": {},
     "output_type": "display_data"
    }
   ],
   "source": [
    "print(\"Confusion Matrix:\")\n",
    "plt.figure(figsize=(6, 4))\n",
    "sns.heatmap(tuned_conf_matrix, annot=True, fmt='d', cmap='Blues',\n",
    "            xticklabels=['Predicted 0', 'Predicted 1'],\n",
    "            yticklabels=['Actual 0', 'Actual 1'])\n",
    "plt.ylabel('Actual')\n",
    "plt.xlabel('Predicted')\n",
    "plt.show()"
   ]
  },
  {
   "cell_type": "markdown",
   "id": "0e0ee89c",
   "metadata": {},
   "source": [
    "---"
   ]
  },
  {
   "cell_type": "markdown",
   "id": "ff8b922f-3db1-40a0-95e9-a30630e2c286",
   "metadata": {},
   "source": [
    "## 7. Register the Model in SageMaker Model Registry\n",
    "For MLOps and production pipelines, it's a best practice to register your trained models in the SageMaker Model Registry."
   ]
  },
  {
   "cell_type": "markdown",
   "id": "25cef60f",
   "metadata": {},
   "source": [
    "### 7.1. Create a Model Package Group\n",
    "We first create a model package group to organize different versions of our fraud detection model."
   ]
  },
  {
   "cell_type": "code",
   "execution_count": 62,
   "id": "d697203e-be92-4aef-b1d8-202ba9f48b4a",
   "metadata": {},
   "outputs": [],
   "source": [
    "model_package_group_name = \"Test-FraudDetectionXGBoostModels\""
   ]
  },
  {
   "cell_type": "code",
   "execution_count": 64,
   "id": "c5f7a6bf-f958-4a85-9f00-001abcb4061e",
   "metadata": {},
   "outputs": [
    {
     "name": "stdout",
     "output_type": "stream",
     "text": [
      "Created new model package group: Test-FraudDetectionXGBoostModels\n"
     ]
    }
   ],
   "source": [
    "try:\n",
    "    sagemaker_session = sagemaker.Session()\n",
    "    sagemaker_session.sagemaker_client.create_model_package_group(\n",
    "        ModelPackageGroupName=model_package_group_name,\n",
    "        ModelPackageGroupDescription=\"All versions of the fraud detection model\"\n",
    "    )\n",
    "    print(f\"Created new model package group: {model_package_group_name}\")\n",
    "except Exception as e:\n",
    "    print(f\"{e}\")"
   ]
  },
  {
   "cell_type": "markdown",
   "id": "4a7b4db2",
   "metadata": {},
   "source": [
    "### 7.2. Define Model Metrics for Registration\n",
    "We define the performance metrics of our tuned model, which will be stored with the model version in the registry."
   ]
  },
  {
   "cell_type": "code",
   "execution_count": 65,
   "id": "0d519572-fd7c-4bab-ac94-9f96c33e0d4b",
   "metadata": {},
   "outputs": [],
   "source": [
    "model_metrics_report = {\n",
    "    \"binary_classification_metrics\": {\n",
    "        \"accuracy\": {\"value\": tuned_accuracy, \"standard_deviation\": \"NaN\"},\n",
    "        \"f1_score\": {\"value\": tuned_f1, \"standard_deviation\": \"NaN\"},\n",
    "        \"precision\": {\"value\": tuned_precision, \"standard_deviation\": \"NaN\"},\n",
    "        \"recall\": {\"value\": tuned_recall, \"standard_deviation\": \"NaN\"},\n",
    "    }\n",
    "}"
   ]
  },
  {
   "cell_type": "code",
   "execution_count": 66,
   "id": "b29f1461",
   "metadata": {},
   "outputs": [
    {
     "data": {
      "text/plain": [
       "'s3://test-bucket-second-rerun/fraud-detection/reports/sagemaker-xgboost-250807-1029-017-c1550cb4-metrics.json'"
      ]
     },
     "execution_count": 66,
     "metadata": {},
     "output_type": "execute_result"
    }
   ],
   "source": [
    "metrics_s3_uri = f\"s3://{bucket}/{prefix}/reports/{tuner.best_training_job()}-metrics.json\"\n",
    "S3Uploader.upload_string_as_file_body(json.dumps(model_metrics_report), metrics_s3_uri)"
   ]
  },
  {
   "cell_type": "code",
   "execution_count": 67,
   "id": "d1b9f57e",
   "metadata": {},
   "outputs": [],
   "source": [
    "model_metrics = ModelMetrics(\n",
    "    model_statistics=MetricsSource(\n",
    "        s3_uri=metrics_s3_uri,\n",
    "        content_type=\"application/json\"\n",
    "    )\n",
    ")"
   ]
  },
  {
   "cell_type": "markdown",
   "id": "588986ff",
   "metadata": {},
   "source": [
    "### 7.3. Register the Tuned Model\n",
    "We register the best estimator as a new model package version in our model group."
   ]
  },
  {
   "cell_type": "code",
   "execution_count": 68,
   "id": "4777c81e",
   "metadata": {},
   "outputs": [],
   "source": [
    "model_package = best_tuner.register(\n",
    "    content_types=[\"text/csv\"],\n",
    "    response_types=[\"text/csv\"],\n",
    "    inference_instances=[\"ml.t2.medium\", \"ml.m5.large\"],\n",
    "    transform_instances=[\"ml.m5.large\"],\n",
    "    model_package_group_name=model_package_group_name,\n",
    "    model_metrics=model_metrics,\n",
    "    approval_status=\"PendingManualApproval\",\n",
    "    description=f\"Best model from tuning job {tuner.latest_tuning_job.name}\"\n",
    ")"
   ]
  },
  {
   "cell_type": "code",
   "execution_count": 69,
   "id": "005198f0",
   "metadata": {},
   "outputs": [
    {
     "name": "stdout",
     "output_type": "stream",
     "text": [
      "\n",
      "Successfully registered model version. ARN:\n",
      "arn:aws:sagemaker:us-east-1:527054996464:model-package/Test-FraudDetectionXGBoostModels/1\n"
     ]
    }
   ],
   "source": [
    "model_package_arn = model_package.model_package_arn\n",
    "print(f\"\\nSuccessfully registered model version. ARN:\\n{model_package_arn}\")"
   ]
  },
  {
   "cell_type": "markdown",
   "id": "c1a0761b",
   "metadata": {},
   "source": [
    "### 7.4. Approve the Model\n",
    "In a real-world scenario, a model would go through a validation process before being approved. Here, we manually approve the model version we just registered."
   ]
  },
  {
   "cell_type": "markdown",
   "id": "a36d4824",
   "metadata": {},
   "source": [
    "You would typically get the ARN from the previous step, but it is hardcoded here for reproducibility.\n",
    "\n",
    "model_package_arn = \"arn:aws:sagemaker:us-east-1:527054996464:model-package/FraudDetectionXGBoostModels/1\" "
   ]
  },
  {
   "cell_type": "code",
   "execution_count": 70,
   "id": "1f3468b0",
   "metadata": {},
   "outputs": [],
   "source": [
    "model_package_update_input = {\n",
    "    \"ModelPackageArn\": model_package_arn,\n",
    "    \"ModelApprovalStatus\": \"Approved\",\n",
    "}"
   ]
  },
  {
   "cell_type": "code",
   "execution_count": 71,
   "id": "e73de31a",
   "metadata": {},
   "outputs": [
    {
     "name": "stdout",
     "output_type": "stream",
     "text": [
      "Model package arn:aws:sagemaker:us-east-1:527054996464:model-package/Test-FraudDetectionXGBoostModels/1 approved.\n"
     ]
    }
   ],
   "source": [
    "sagemaker_session.sagemaker_client.update_model_package(**model_package_update_input)\n",
    "print(f\"Model package {model_package_arn} approved.\")"
   ]
  },
  {
   "cell_type": "markdown",
   "id": "bd370352",
   "metadata": {},
   "source": [
    "---"
   ]
  },
  {
   "cell_type": "markdown",
   "id": "c3365d8b",
   "metadata": {},
   "source": [
    "## 8. Cleanup"
   ]
  },
  {
   "cell_type": "markdown",
   "id": "879881a2",
   "metadata": {},
   "source": [
    "Finally, to avoid incurring ongoing charges, we delete the SageMaker endpoints we created."
   ]
  },
  {
   "cell_type": "code",
   "execution_count": 72,
   "id": "88541a04",
   "metadata": {},
   "outputs": [
    {
     "name": "stderr",
     "output_type": "stream",
     "text": [
      "INFO:sagemaker:Deleting endpoint configuration with name: fraud-detection-second-rerun-2025-08-07-10-25-07-149\n",
      "INFO:sagemaker:Deleting endpoint with name: fraud-detection-second-rerun-2025-08-07-10-25-07-149\n",
      "INFO:sagemaker:Deleting endpoint configuration with name: sagemaker-xgboost-2025-08-07-10-37-39-896\n",
      "INFO:sagemaker:Deleting endpoint with name: sagemaker-xgboost-2025-08-07-10-37-39-896\n"
     ]
    },
    {
     "name": "stdout",
     "output_type": "stream",
     "text": [
      "Both Endpoints have been deleted.\n"
     ]
    }
   ],
   "source": [
    "try:\n",
    "    xgb_predictor.delete_endpoint()\n",
    "    tuned_xgb_predictor.delete_endpoint()\n",
    "    print(\"Both Endpoints have been deleted.\")\n",
    "except Exception as e:\n",
    "    print(f\"Error deleting endpoints: {e}\")"
   ]
  }
 ],
 "metadata": {
  "kernelspec": {
   "display_name": "conda_python3",
   "language": "python",
   "name": "conda_python3"
  },
  "language_info": {
   "codemirror_mode": {
    "name": "ipython",
    "version": 3
   },
   "file_extension": ".py",
   "mimetype": "text/x-python",
   "name": "python",
   "nbconvert_exporter": "python",
   "pygments_lexer": "ipython3",
   "version": "3.10.18"
  }
 },
 "nbformat": 4,
 "nbformat_minor": 5
}
